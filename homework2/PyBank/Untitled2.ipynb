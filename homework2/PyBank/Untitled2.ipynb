{
 "cells": [
  {
   "cell_type": "code",
   "execution_count": 1,
   "id": "9b104735-1f1c-420a-b47c-ea0793a428a6",
   "metadata": {},
   "outputs": [],
   "source": [
    "num_list = [12, 33, 41, 2, 61, 32, 75, 43, 67]"
   ]
  },
  {
   "cell_type": "code",
   "execution_count": 2,
   "id": "86c446e3-273a-4d10-8d30-1c3a65018810",
   "metadata": {},
   "outputs": [],
   "source": [
    "min = 0\n",
    "max = 0"
   ]
  },
  {
   "cell_type": "code",
   "execution_count": null,
   "id": "802edb27-ce25-4b0d-bf73-4459f60105fb",
   "metadata": {},
   "outputs": [],
   "source": [
    "for num in num_list():\n",
    "    if num < min\n",
    "    min = num\n",
    "    else\n",
    "    "
   ]
  }
 ],
 "metadata": {
  "kernelspec": {
   "display_name": "Python 3 (ipykernel)",
   "language": "python",
   "name": "python3"
  },
  "language_info": {
   "codemirror_mode": {
    "name": "ipython",
    "version": 3
   },
   "file_extension": ".py",
   "mimetype": "text/x-python",
   "name": "python",
   "nbconvert_exporter": "python",
   "pygments_lexer": "ipython3",
   "version": "3.8.8"
  }
 },
 "nbformat": 4,
 "nbformat_minor": 5
}
